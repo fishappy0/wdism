{
  "cells": [
    {
      "cell_type": "markdown",
      "metadata": {},
      "source": [
        "# **Bài toán dự đoán hành động di chuyển của người**\n",
        "\n",
        "### Bộ dữ liệu: WISDM v1.1\n",
        "### Dạng bài toán Classification\n",
        "### Yêu cầu dự đoán: loại hành động của người dựa trên trục X Y Z\n",
        "\n",
        "### Mô tả đặc trưng:\n",
        "+ __User ID__: Số thứ tự của người tham gia khảo sát (tổng 36 người), Kiểu dữ liệu: Số\n",
        "+ __Activity__: Loại hành động, Kiểu dữ liệu: Chữ\n",
        "+ __Timestamp__: Mốc thời gian của hành động, Kiểu dữ liệu: Số\n",
        "+ **X_axis, Y_axis, Z_axis**: Điểm trong không gian 3 chiều, Kiểu dữ liệu: Số"
      ]
    },
    {
      "cell_type": "markdown",
      "metadata": {},
      "source": [
        "## **Khảo sát dữ liệu**:"
      ]
    },
    {
      "cell_type": "code",
      "execution_count": null,
      "metadata": {},
      "outputs": [],
      "source": [
        "import pandas as pd\n",
        "import numpy as np\n",
        "import seaborn as sns\n",
        "import matplotlib.pyplot as plt"
      ]
    },
    {
      "cell_type": "code",
      "execution_count": 1,
      "metadata": {
        "colab": {
          "base_uri": "https://localhost:8080/",
          "height": 206
        },
        "id": "2LBgS5dEPpvU",
        "outputId": "7c9ea61d-4281-4872-db0d-649fbea3f1af"
      },
      "outputs": [
        {
          "data": {
            "text/html": [
              "<div>\n",
              "<style scoped>\n",
              "    .dataframe tbody tr th:only-of-type {\n",
              "        vertical-align: middle;\n",
              "    }\n",
              "\n",
              "    .dataframe tbody tr th {\n",
              "        vertical-align: top;\n",
              "    }\n",
              "\n",
              "    .dataframe thead th {\n",
              "        text-align: right;\n",
              "    }\n",
              "</style>\n",
              "<table border=\"1\" class=\"dataframe\">\n",
              "  <thead>\n",
              "    <tr style=\"text-align: right;\">\n",
              "      <th></th>\n",
              "      <th>User ID</th>\n",
              "      <th>Activity</th>\n",
              "      <th>Timestamp</th>\n",
              "      <th>X_axis</th>\n",
              "      <th>Y_axis</th>\n",
              "      <th>Z_axis</th>\n",
              "    </tr>\n",
              "  </thead>\n",
              "  <tbody>\n",
              "    <tr>\n",
              "      <th>0</th>\n",
              "      <td>33</td>\n",
              "      <td>Jogging</td>\n",
              "      <td>49105962326000</td>\n",
              "      <td>-0.694638</td>\n",
              "      <td>12.680544</td>\n",
              "      <td>0.503953</td>\n",
              "    </tr>\n",
              "    <tr>\n",
              "      <th>1</th>\n",
              "      <td>33</td>\n",
              "      <td>Jogging</td>\n",
              "      <td>49106062271000</td>\n",
              "      <td>5.012288</td>\n",
              "      <td>11.264028</td>\n",
              "      <td>0.953424</td>\n",
              "    </tr>\n",
              "    <tr>\n",
              "      <th>2</th>\n",
              "      <td>33</td>\n",
              "      <td>Jogging</td>\n",
              "      <td>49106112167000</td>\n",
              "      <td>4.903325</td>\n",
              "      <td>10.882658</td>\n",
              "      <td>-0.081722</td>\n",
              "    </tr>\n",
              "    <tr>\n",
              "      <th>3</th>\n",
              "      <td>33</td>\n",
              "      <td>Jogging</td>\n",
              "      <td>49106222305000</td>\n",
              "      <td>-0.612916</td>\n",
              "      <td>18.496431</td>\n",
              "      <td>3.023717</td>\n",
              "    </tr>\n",
              "    <tr>\n",
              "      <th>4</th>\n",
              "      <td>33</td>\n",
              "      <td>Jogging</td>\n",
              "      <td>49106332290000</td>\n",
              "      <td>-1.184970</td>\n",
              "      <td>12.108489</td>\n",
              "      <td>7.205164</td>\n",
              "    </tr>\n",
              "  </tbody>\n",
              "</table>\n",
              "</div>"
            ],
            "text/plain": [
              "   User ID Activity       Timestamp    X_axis     Y_axis    Z_axis\n",
              "0       33  Jogging  49105962326000 -0.694638  12.680544  0.503953\n",
              "1       33  Jogging  49106062271000  5.012288  11.264028  0.953424\n",
              "2       33  Jogging  49106112167000  4.903325  10.882658 -0.081722\n",
              "3       33  Jogging  49106222305000 -0.612916  18.496431  3.023717\n",
              "4       33  Jogging  49106332290000 -1.184970  12.108489  7.205164"
            ]
          },
          "execution_count": 1,
          "metadata": {},
          "output_type": "execute_result"
        }
      ],
      "source": [
        "column = ['User ID', 'Activity', 'Timestamp', 'X_axis', 'Y_axis', 'Z_axis']\n",
        "dfs = pd.read_csv(\"WISDM_ar_v1.1_raw.txt\",header=None,names=column)\n",
        "dfs.Z_axis.replace(regex=True, inplace=True, to_replace=r';', value='')\n",
        "dfs['Z_axis'] = dfs.Z_axis.astype(np.float64)\n",
        "dfs.dropna(axis=0, how='any', inplace=True)\n",
        "dfs.head(5)\n"
      ]
    },
    {
      "cell_type": "markdown",
      "metadata": {},
      "source": [
        "### Vẽ đồ thị khảo sát số lượng dữ liệu của từng người:"
      ]
    },
    {
      "cell_type": "code",
      "execution_count": 2,
      "metadata": {
        "colab": {
          "base_uri": "https://localhost:8080/",
          "height": 552
        },
        "id": "lXtvUqCvPpvY",
        "outputId": "eb83dcb9-9b5b-41d3-bd2c-6f14671eaa82"
      },
      "outputs": [
        {
          "data": {
            "image/png": "[encoded data removed]",
            "text/plain": [
              "<Figure size 800x640 with 1 Axes>"
            ]
          },
          "metadata": {
            "needs_background": "dark"
          },
          "output_type": "display_data"
        }
      ],
      "source": [
        "plt.figure(figsize=(10,8), dpi=80, edgecolor='black')\n",
        "dfs['User ID'].value_counts().plot.bar()\n",
        "xlabel = plt.xlabel(\"User ID\")\n",
        "ylabel = plt.ylabel(\"Occurances\")\n",
        "xlabel.set_color(\"violet\")\n",
        "ylabel.set_color(\"violet\")\n",
        "\n",
        "plt.tick_params(axis='x', colors='violet')\n",
        "plt.tick_params(axis='y', colors='violet')"
      ]
    },
    {
      "cell_type": "markdown",
      "metadata": {},
      "source": [
        "### Vẽ đồ thị khảo sát số lượng dữ liệu của từng hành động:\n",
        "\n",
        "* Ghi chú [1]: Lượng điểm dữ liệu cho hành động đi bộ (Walking) và chạy (Jogging) nhiều gấp 3 lần so với hành độn lên cầu thang và xuống lầu, điều này có thể ảnh hưởng kết quả train ở gian đoạn sau."
      ]
    },
    {
      "cell_type": "code",
      "execution_count": 3,
      "metadata": {
        "colab": {
          "base_uri": "https://localhost:8080/",
          "height": 600
        },
        "id": "OlUZj0clPpva",
        "outputId": "bed063cf-76f7-4652-db16-ff0c313f3fb7"
      },
      "outputs": [
        {
          "data": {
            "image/png": "[encoded data removed]",
            "text/plain": [
              "<Figure size 800x640 with 1 Axes>"
            ]
          },
          "metadata": {
            "needs_background": "dark"
          },
          "output_type": "display_data"
        }
      ],
      "source": [
        "plt.figure(figsize=(10,8), dpi=80, edgecolor='black')\n",
        "dfs['Activity'].value_counts().plot.bar()\n",
        "xlabel = plt.xlabel(\"User ID\")\n",
        "ylabel = plt.ylabel(\"Occurances\")\n",
        "xlabel.set_color(\"violet\")\n",
        "ylabel.set_color(\"violet\")\n",
        "\n",
        "plt.tick_params(axis='x', colors='violet')\n",
        "plt.tick_params(axis='y', colors='violet')"
      ]
    },
    {
      "cell_type": "code",
      "execution_count": 4,
      "metadata": {
        "colab": {
          "base_uri": "https://localhost:8080/"
        },
        "id": "jfaQv5KtPpva",
        "outputId": "748cb3e6-b3b7-4814-a6ed-5d7aeccb21de"
      },
      "outputs": [
        {
          "data": {
            "text/plain": [
              "User ID     -0.004503\n",
              "Timestamp    0.033627\n",
              "X_axis       0.067995\n",
              "Y_axis       0.017384\n",
              "Z_axis       1.000000\n",
              "Name: Z_axis, dtype: float64"
            ]
          },
          "execution_count": 4,
          "metadata": {},
          "output_type": "execute_result"
        }
      ],
      "source": [
        "corr = dfs.corr()\n",
        "corr['Z_axis']"
      ]
    },
    {
      "cell_type": "markdown",
      "metadata": {},
      "source": [
        "### Chia dữ liệu cho train và test:\n",
        "\n",
        "- Chọn dữ liệu từ 25 người trên tổng 36, tỉ lệ chọn là 70%"
      ]
    },
    {
      "cell_type": "code",
      "execution_count": 5,
      "metadata": {
        "id": "B_4EQb-4Ppvb"
      },
      "outputs": [],
      "source": [
        "# Sample size of 36 people, select 25 for training and 11 for testing\n",
        "df_trains = dfs[dfs['User ID'] <= 25]\n",
        "df_tests = dfs[dfs['User ID'] > 25]\n"
      ]
    },
    {
      "cell_type": "markdown",
      "metadata": {},
      "source": [
        "### Chuẩn hoá dữ liệu bằng cách scale dữ liệu:\n",
        "\n",
        "- Vì dữ liệu số của X Y Z có độ chênh lệch cao và có outlier(dữ liệu thật) nên robustscaler sẽ được sữ dụng đễ scale dữ liệu thay vì minmax scaling"
      ]
    },
    {
      "cell_type": "code",
      "execution_count": 6,
      "metadata": {
        "colab": {
          "base_uri": "https://localhost:8080/"
        },
        "id": "qnimQb2zPpvb",
        "outputId": "f35cbcc9-dac8-4023-936d-9565ead70038"
      },
      "outputs": [
        {
          "name": "stderr",
          "output_type": "stream",
          "text": [
            "c:\\Users\\fisha\\anaconda3\\envs\\directML_test\\lib\\site-packages\\pandas\\core\\indexing.py:1734: SettingWithCopyWarning: \n",
            "A value is trying to be set on a copy of a slice from a DataFrame.\n",
            "Try using .loc[row_indexer,col_indexer] = value instead\n",
            "\n",
            "See the caveats in the documentation: https://pandas.pydata.org/pandas-docs/stable/user_guide/indexing.html#returning-a-view-versus-a-copy\n",
            "  isetter(loc, value[:, i].tolist())\n",
            "c:\\Users\\fisha\\anaconda3\\envs\\directML_test\\lib\\site-packages\\pandas\\core\\indexing.py:1734: SettingWithCopyWarning: \n",
            "A value is trying to be set on a copy of a slice from a DataFrame.\n",
            "Try using .loc[row_indexer,col_indexer] = value instead\n",
            "\n",
            "See the caveats in the documentation: https://pandas.pydata.org/pandas-docs/stable/user_guide/indexing.html#returning-a-view-versus-a-copy\n",
            "  isetter(loc, value[:, i].tolist())\n"
          ]
        }
      ],
      "source": [
        "from sklearn.preprocessing import RobustScaler\n",
        "scale_columns = ['X_axis','Y_axis','Z_axis']\n",
        "\n",
        "scaler = RobustScaler()\n",
        "\n",
        "# Scale the data number\n",
        "scaler = scaler.fit(df_trains[scale_columns])\n",
        "\n",
        "df_trains.loc[:,scale_columns] = scaler.transform(\n",
        "    df_trains[scale_columns].to_numpy()\n",
        ")\n",
        "\n",
        "df_tests.loc[:,scale_columns] = scaler.transform(\n",
        "    df_tests[scale_columns].to_numpy()\n",
        ")\n",
        "\n"
      ]
    },
    {
      "cell_type": "markdown",
      "metadata": {},
      "source": [
        "### Chia dữ liệu thành X Y set:\n",
        "\n",
        "- Từ dữ liệu gốc, ta chọn cột: X_axis, Y_axis, Z_axis cho X List và Nhẵn \"Activity\" cho cột Y"
      ]
    },
    {
      "cell_type": "code",
      "execution_count": 7,
      "metadata": {
        "id": "mItwDg8CPpvc"
      },
      "outputs": [],
      "source": [
        "from scipy import stats\n",
        "import numpy as np\n",
        "\n",
        "# split the dataset into \"time steps\" or batches and Y data to individual arrays\n",
        "def create_dataset(X_ins, Y_ins, time_step=1, step=1):\n",
        "    Xs, Ys = [], []\n",
        "    for i in range(0, len(X_ins) - time_step, step):\n",
        "        v = X_ins.iloc[i:(i + time_step)].values\n",
        "        labels = Y_ins.iloc[i:(i + time_step)]\n",
        "        Xs.append(v)\n",
        "        Ys.append(stats.mode(labels)[0][0])\n",
        "    return np.array(Xs), np.array(Ys).reshape(-1, 1)"
      ]
    },
    {
      "cell_type": "code",
      "execution_count": 8,
      "metadata": {
        "colab": {
          "base_uri": "https://localhost:8080/"
        },
        "id": "FEe-GUu4Ppvd",
        "outputId": "1fc636f6-802d-4cc2-ee36-0a5dce148772"
      },
      "outputs": [
        {
          "name": "stdout",
          "output_type": "stream",
          "text": [
            "Train shape: X:(18643, 200, 3) Y:(18643, 1)\n",
            "Train shape: X:(8803, 200, 3) Y:(8803, 1)\n"
          ]
        }
      ],
      "source": [
        "# 200 movement sample per steps as anything larger than 500 takes too long to train\n",
        "time_steps = 200\n",
        "step = 40\n",
        "\n",
        "X_trains, Y_trains = create_dataset(\n",
        "    df_trains.drop(columns=['User ID','Timestamp','Activity']), \n",
        "    df_trains['Activity'],\n",
        "    time_steps,\n",
        "    step\n",
        ")\n",
        "X_tests, Y_tests = create_dataset(\n",
        "    df_tests.drop(columns=['User ID','Timestamp','Activity']), \n",
        "    df_tests['Activity'],\n",
        "    time_steps,\n",
        "    step\n",
        ")\n",
        "print(f'Train shape: X:{X_trains.shape} Y:{Y_trains.shape}')\n",
        "print(f'Train shape: X:{X_tests.shape} Y:{Y_tests.shape}')"
      ]
    },
    {
      "cell_type": "markdown",
      "metadata": {},
      "source": [
        "### Xử lý nhãn:\n",
        "\n",
        "- Vì nhãn là chữ và không có độ ưu tiên(ví dụ như xếp loại học lực của học sinh), nên ta sẽ dùng dummy/onehotencoder để encode thành từng cột khác nhau."
      ]
    },
    {
      "cell_type": "code",
      "execution_count": 9,
      "metadata": {
        "colab": {
          "base_uri": "https://localhost:8080/"
        },
        "id": "HJvCtNn2Ppve",
        "outputId": "681a3e20-17e0-4797-e8a0-f41e2f200231"
      },
      "outputs": [
        {
          "name": "stdout",
          "output_type": "stream",
          "text": [
            "Y train shape: (18643, 6)\n",
            "Y train shape: (8803, 6)\n"
          ]
        }
      ],
      "source": [
        "# Transform categories into columns\n",
        "from sklearn.preprocessing import OneHotEncoder\n",
        "encoder = OneHotEncoder(handle_unknown='ignore', sparse=False)\n",
        "encoder = encoder.fit(Y_trains)\n",
        "\n",
        "Y_trains = encoder.fit_transform(Y_trains)\n",
        "Y_tests = encoder.fit_transform(Y_tests)\n",
        "\n",
        "# print(f'One-Hot encoded Y trains: {Y_trains}')\n",
        "print(f'Y train shape: {Y_trains.shape}')\n",
        "print(f'Y train shape: {Y_tests.shape}')\n"
      ]
    },
    {
      "cell_type": "markdown",
      "metadata": {},
      "source": [
        "## **Tạo model và train model**:\n"
      ]
    },
    {
      "cell_type": "markdown",
      "metadata": {},
      "source": [
        "### Tạo model BiLSTM (Bidirectional LSTM):\n",
        "\n",
        "Giải thích model:\n",
        "+ Model dùng 1 lớp BiLSTM kết nối với 1 lớp dropout dùng cho chính quy hoá dữ liệu (Regularization)\n",
        "+ Sau đó model kết nối với 1 lớp Dense có sử dụng max_norm(3) cho chính quy hoá dữ liệu\n",
        "+ Tầng output sử dụng phương pháp kích hoạt là softmax phổ biến cho bài toán phân loại"
      ]
    },
    {
      "cell_type": "code",
      "execution_count": 10,
      "metadata": {
        "colab": {
          "base_uri": "https://localhost:8080/"
        },
        "id": "zOea6iNCPpve",
        "outputId": "d30e272e-ab9c-4226-83c0-983893d4c24b"
      },
      "outputs": [
        {
          "name": "stdout",
          "output_type": "stream",
          "text": [
            "WARNING:tensorflow:From c:\\Users\\fisha\\anaconda3\\envs\\directML_test\\lib\\site-packages\\tensorflow_core\\python\\ops\\init_ops.py:97: calling GlorotUniform.__init__ (from tensorflow.python.ops.init_ops) with dtype is deprecated and will be removed in a future version.\n",
            "Instructions for updating:\n",
            "Call initializer instance with the dtype argument instead of passing it to the constructor\n",
            "WARNING:tensorflow:From c:\\Users\\fisha\\anaconda3\\envs\\directML_test\\lib\\site-packages\\tensorflow_core\\python\\ops\\init_ops.py:97: calling Orthogonal.__init__ (from tensorflow.python.ops.init_ops) with dtype is deprecated and will be removed in a future version.\n",
            "Instructions for updating:\n",
            "Call initializer instance with the dtype argument instead of passing it to the constructor\n",
            "WARNING:tensorflow:From c:\\Users\\fisha\\anaconda3\\envs\\directML_test\\lib\\site-packages\\tensorflow_core\\python\\ops\\init_ops.py:97: calling Zeros.__init__ (from tensorflow.python.ops.init_ops) with dtype is deprecated and will be removed in a future version.\n",
            "Instructions for updating:\n",
            "Call initializer instance with the dtype argument instead of passing it to the constructor\n",
            "WARNING:tensorflow:From c:\\Users\\fisha\\anaconda3\\envs\\directML_test\\lib\\site-packages\\tensorflow_core\\python\\ops\\resource_variable_ops.py:1630: calling BaseResourceVariable.__init__ (from tensorflow.python.ops.resource_variable_ops) with constraint is deprecated and will be removed in a future version.\n",
            "Instructions for updating:\n",
            "If using Keras pass *_constraint arguments to layers.\n",
            "Model: \"sequential\"\n",
            "_________________________________________________________________\n",
            "Layer (type)                 Output Shape              Param #   \n",
            "=================================================================\n",
            "bidirectional (Bidirectional (None, 128)               34816     \n",
            "_________________________________________________________________\n",
            "dropout (Dropout)            (None, 128)               0         \n",
            "_________________________________________________________________\n",
            "dense (Dense)                (None, 64)                8256      \n",
            "_________________________________________________________________\n",
            "dense_1 (Dense)              (None, 6)                 390       \n",
            "=================================================================\n",
            "Total params: 43,462\n",
            "Trainable params: 43,462\n",
            "Non-trainable params: 0\n",
            "_________________________________________________________________\n"
          ]
        }
      ],
      "source": [
        "from tensorflow.keras import models, layers, utils, activations, preprocessing, losses, metrics, constraints\n",
        "model = models.Sequential()\n",
        "model.add(layers.Input(shape=(X_trains.shape[1], X_trains.shape[2])))\n",
        "model.add(\n",
        "    layers.Bidirectional(\n",
        "        layers.LSTM(\n",
        "            units=64,\n",
        "            input_shape=[X_trains.shape[1], X_trains.shape[2]]\n",
        "        )\n",
        "    )\n",
        ")\n",
        "model.add(layers.Dropout(rate=0.5))\n",
        "model.add(layers.Dense(units=64, kernel_constraint=constraints.max_norm(3),activation='relu'),)\n",
        "model.add(layers.Dense(Y_trains.shape[1], activation='softmax'))\n",
        "\n",
        "model.build()\n",
        "model.summary()\n",
        "model.compile(\n",
        "    loss='categorical_crossentropy',\n",
        "    optimizer='adam',\n",
        "    metrics=['acc']\n",
        ")"
      ]
    },
    {
      "cell_type": "markdown",
      "metadata": {},
      "source": [
        "+ Ghi chú: vì bộ dữ liệu có nhiều điểm dữ liệu nên thời gian huấn luyện model lâu: 2 tiếng và 30p sử dụng card đồ hoạ RX 5700(Non-XT)"
      ]
    },
    {
      "cell_type": "code",
      "execution_count": 11,
      "metadata": {
        "colab": {
          "base_uri": "https://localhost:8080/"
        },
        "id": "had1t0kLPpvf",
        "outputId": "8e0fc9f5-ca8a-4e86-ae56-247145878904"
      },
      "outputs": [
        {
          "name": "stdout",
          "output_type": "stream",
          "text": [
            "WARNING:tensorflow:From c:\\Users\\fisha\\anaconda3\\envs\\directML_test\\lib\\site-packages\\tensorflow_core\\python\\ops\\math_grad.py:1424: where (from tensorflow.python.ops.array_ops) is deprecated and will be removed in a future version.\n",
            "Instructions for updating:\n",
            "Use tf.where in 2.0, which has the same broadcast rule as np.where\n",
            "Train on 13050 samples, validate on 5593 samples\n",
            "Epoch 1/30\n",
            "13050/13050 [==============================] - 292s 22ms/sample - loss: 1.4229 - acc: 0.5130 - val_loss: 1.2170 - val_acc: 0.6081\n",
            "Epoch 2/30\n",
            "13050/13050 [==============================] - 293s 22ms/sample - loss: 1.1662 - acc: 0.5998 - val_loss: 1.0958 - val_acc: 0.6399\n",
            "Epoch 3/30\n",
            "13050/13050 [==============================] - 299s 23ms/sample - loss: 0.9875 - acc: 0.6803 - val_loss: 0.8761 - val_acc: 0.7264\n",
            "Epoch 4/30\n",
            "13050/13050 [==============================] - 301s 23ms/sample - loss: 0.8150 - acc: 0.7141 - val_loss: 0.8433 - val_acc: 0.7399\n",
            "Epoch 5/30\n",
            "13050/13050 [==============================] - 294s 22ms/sample - loss: 0.7441 - acc: 0.7381 - val_loss: 0.8300 - val_acc: 0.7143\n",
            "Epoch 6/30\n",
            "13050/13050 [==============================] - 287s 22ms/sample - loss: 0.6737 - acc: 0.7526 - val_loss: 0.7849 - val_acc: 0.7449\n",
            "Epoch 7/30\n",
            "13050/13050 [==============================] - 287s 22ms/sample - loss: 0.6735 - acc: 0.7559 - val_loss: 0.8246 - val_acc: 0.7704\n",
            "Epoch 8/30\n",
            "13050/13050 [==============================] - 280s 21ms/sample - loss: 0.6237 - acc: 0.7693 - val_loss: 0.9983 - val_acc: 0.7615\n",
            "Epoch 9/30\n",
            "13050/13050 [==============================] - 284s 22ms/sample - loss: 0.5824 - acc: 0.7779 - val_loss: 0.6901 - val_acc: 0.7806\n",
            "Epoch 10/30\n",
            "13050/13050 [==============================] - 283s 22ms/sample - loss: 0.5271 - acc: 0.7994 - val_loss: 0.8346 - val_acc: 0.7427\n",
            "Epoch 11/30\n",
            "13050/13050 [==============================] - 283s 22ms/sample - loss: 0.5833 - acc: 0.7741 - val_loss: 0.7945 - val_acc: 0.7291\n",
            "Epoch 12/30\n",
            "13050/13050 [==============================] - 273s 21ms/sample - loss: 0.4930 - acc: 0.8037 - val_loss: 0.7995 - val_acc: 0.7466\n",
            "Epoch 13/30\n",
            "13050/13050 [==============================] - 273s 21ms/sample - loss: 0.4810 - acc: 0.8199 - val_loss: 0.7353 - val_acc: 0.7742\n",
            "Epoch 14/30\n",
            "13050/13050 [==============================] - 273s 21ms/sample - loss: 0.4484 - acc: 0.8336 - val_loss: 0.8805 - val_acc: 0.7257\n",
            "Epoch 15/30\n",
            "13050/13050 [==============================] - 271s 21ms/sample - loss: 0.4114 - acc: 0.8428 - val_loss: 0.8801 - val_acc: 0.7340\n",
            "Epoch 16/30\n",
            "13050/13050 [==============================] - 272s 21ms/sample - loss: 0.4020 - acc: 0.8396 - val_loss: 0.8842 - val_acc: 0.6973\n",
            "Epoch 17/30\n",
            "13050/13050 [==============================] - 272s 21ms/sample - loss: 0.3531 - acc: 0.8631 - val_loss: 0.6909 - val_acc: 0.7679\n",
            "Epoch 18/30\n",
            "13050/13050 [==============================] - 272s 21ms/sample - loss: 0.3331 - acc: 0.8703 - val_loss: 0.9801 - val_acc: 0.6973\n",
            "Epoch 19/30\n",
            "13050/13050 [==============================] - 272s 21ms/sample - loss: 0.2930 - acc: 0.8824 - val_loss: 0.7141 - val_acc: 0.7933\n",
            "Epoch 20/30\n",
            "13050/13050 [==============================] - 272s 21ms/sample - loss: 0.2625 - acc: 0.9010 - val_loss: 0.8391 - val_acc: 0.7425\n",
            "Epoch 21/30\n",
            "13050/13050 [==============================] - 272s 21ms/sample - loss: 0.2683 - acc: 0.8974 - val_loss: 0.8355 - val_acc: 0.7627\n",
            "Epoch 22/30\n",
            "13050/13050 [==============================] - 272s 21ms/sample - loss: 0.3423 - acc: 0.8759 - val_loss: 0.9547 - val_acc: 0.7123\n",
            "Epoch 23/30\n",
            "13050/13050 [==============================] - 272s 21ms/sample - loss: 0.4892 - acc: 0.8158 - val_loss: 0.8229 - val_acc: 0.7073\n",
            "Epoch 24/30\n",
            "13050/13050 [==============================] - 272s 21ms/sample - loss: 0.3432 - acc: 0.8703 - val_loss: 0.9797 - val_acc: 0.7107\n",
            "Epoch 25/30\n",
            "13050/13050 [==============================] - 275s 21ms/sample - loss: 0.2840 - acc: 0.8897 - val_loss: 1.1876 - val_acc: 0.7052\n",
            "Epoch 26/30\n",
            "13050/13050 [==============================] - 279s 21ms/sample - loss: 0.3399 - acc: 0.8737 - val_loss: 0.8773 - val_acc: 0.7660\n",
            "Epoch 27/30\n",
            "13050/13050 [==============================] - 292s 22ms/sample - loss: 0.2746 - acc: 0.8933 - val_loss: 1.2078 - val_acc: 0.7381\n",
            "Epoch 28/30\n",
            "13050/13050 [==============================] - 282s 22ms/sample - loss: 0.2568 - acc: 0.9088 - val_loss: 0.8197 - val_acc: 0.7854\n",
            "Epoch 29/30\n",
            "13050/13050 [==============================] - 281s 22ms/sample - loss: 0.2284 - acc: 0.9104 - val_loss: 0.8941 - val_acc: 0.7643\n",
            "Epoch 30/30\n",
            "13050/13050 [==============================] - 304s 23ms/sample - loss: 0.2587 - acc: 0.9062 - val_loss: 1.0073 - val_acc: 0.7332\n"
          ]
        }
      ],
      "source": [
        "histories = model.fit(\n",
        "    X_trains, Y_trains,\n",
        "    epochs=30,\n",
        "    batch_size=30,\n",
        "    validation_split=0.30,\n",
        "    shuffle=False\n",
        ")"
      ]
    },
    {
      "cell_type": "code",
      "execution_count": 12,
      "metadata": {
        "colab": {
          "base_uri": "https://localhost:8080/"
        },
        "id": "ECJGaGsnPpvg",
        "outputId": "e572af8b-a47d-42f2-8cb9-31d4250315f4"
      },
      "outputs": [
        {
          "name": "stdout",
          "output_type": "stream",
          "text": [
            "8803/8803 [==============================] - 58s 7ms/sample - loss: 0.8624 - acc: 0.7731\n"
          ]
        }
      ],
      "source": [
        "evaluation_tests = model.evaluate(X_tests, Y_tests)\n",
        "y_predicts = model.predict(X_tests)"
      ]
    },
    {
      "cell_type": "markdown",
      "metadata": {},
      "source": [
        "## **Khảo sát dữ liệu**:"
      ]
    },
    {
      "cell_type": "markdown",
      "metadata": {},
      "source": [
        "### Đồ thị khảo sát độ chính xác của model và mất mát theo từng epoch:\n",
        "\n",
        "+ Cả 2 đồ thị cho thấy sự cải thiện của độ chính xác ở set validation dừng lại ở mức 10 epochs và dao động 10% cho độ chính xác và loss dao động ở mức 0.2%"
      ]
    },
    {
      "cell_type": "code",
      "execution_count": 20,
      "metadata": {
        "colab": {
          "base_uri": "https://localhost:8080/",
          "height": 295
        },
        "id": "OWBvVPRnPpvh",
        "outputId": "89e1eedf-5191-4da3-dfcc-63e705169d6c"
      },
      "outputs": [
        {
          "data": {
            "image/png": "[encoded data removed]",
            "text/plain": [
              "<Figure size 432x288 with 1 Axes>"
            ]
          },
          "metadata": {
            "needs_background": "dark"
          },
          "output_type": "display_data"
        }
      ],
      "source": [
        "hist = pd.DataFrame(histories.history)\n",
        "hist['epoch'] = histories.epoch\n",
        "plt.figure()\n",
        "plt.xlabel('Epoch(s)').set_color('violet')\n",
        "plt.ylabel('Accuracy (Percent)').set_color('violet')\n",
        "\n",
        "plt.tick_params(axis='x', colors='violet')\n",
        "plt.tick_params(axis='y', colors='violet')\n",
        "\n",
        "plt.plot(hist['epoch'], hist['acc'].multiply(100), label ='Train accuracy')\n",
        "plt.plot(hist['epoch'], hist['val_acc'].multiply(100), label ='Validation accuracy')\n",
        "plt.title('Training accuracy over epoch').set_color('violet')\n",
        "plt.legend()\n",
        "plt.show()"
      ]
    },
    {
      "cell_type": "code",
      "execution_count": 21,
      "metadata": {
        "colab": {
          "base_uri": "https://localhost:8080/",
          "height": 295
        },
        "id": "t9mrP84wiPUX",
        "outputId": "f141787b-22ce-4346-9e1a-0b25c7abb78e"
      },
      "outputs": [
        {
          "data": {
            "image/png": "[encoded data removed]",
            "text/plain": [
              "<Figure size 432x288 with 1 Axes>"
            ]
          },
          "metadata": {
            "needs_background": "dark"
          },
          "output_type": "display_data"
        }
      ],
      "source": [
        "hist = pd.DataFrame(histories.history)\n",
        "hist['epoch'] = histories.epoch\n",
        "plt.figure()\n",
        "plt.xlabel('Epoch(s)').set_color('violet')\n",
        "plt.ylabel('Loss (Percent)').set_color('violet')\n",
        "\n",
        "plt.tick_params(axis='x', colors='violet')\n",
        "plt.tick_params(axis='y', colors='violet')\n",
        "\n",
        "plt.plot(hist['epoch'], hist['loss'], label ='Train Loss')\n",
        "plt.plot(hist['epoch'], hist['val_loss'], label ='Validation Loss')\n",
        "plt.title('Training error over epoch').set_color('violet')\n",
        "plt.legend()\n",
        "plt.show()"
      ]
    },
    {
      "cell_type": "code",
      "execution_count": 15,
      "metadata": {
        "colab": {
          "base_uri": "https://localhost:8080/",
          "height": 578
        },
        "id": "xMxM9b_QfkmO",
        "outputId": "1480a975-aa27-4d0f-9d8a-a69f30e53f6e"
      },
      "outputs": [
        {
          "name": "stdout",
          "output_type": "stream",
          "text": [
            "[['Jogging']\n",
            " ['Jogging']\n",
            " ['Jogging']\n",
            " ...\n",
            " ['Standing']\n",
            " ['Standing']\n",
            " ['Standing']]\n",
            "[['Jogging']\n",
            " ['Jogging']\n",
            " ['Jogging']\n",
            " ...\n",
            " ['Upstairs']\n",
            " ['Downstairs']\n",
            " ['Upstairs']]\n"
          ]
        }
      ],
      "source": [
        "Y_tests = encoder.inverse_transform(Y_tests)\n",
        "y_predicts = encoder.inverse_transform(y_predicts)\n",
        "print(Y_tests)\n",
        "print(y_predicts)"
      ]
    },
    {
      "cell_type": "markdown",
      "metadata": {},
      "source": [
        "### Phân tích kết quả dự đoán:\n",
        "\n",
        "Phân tích cho thấy:\n",
        "+ Độ chính xác kết quả dự đoán của kiểu \"Đi lên lầu\" (upstairs) và \"Đi xuống lầu\" (downstair) thấp\n",
        "+ Trong khi đó độ chính xác của các hành động còn lại có độ chính xác cao."
      ]
    },
    {
      "cell_type": "code",
      "execution_count": 16,
      "metadata": {
        "colab": {
          "base_uri": "https://localhost:8080/",
          "height": 108
        },
        "id": "1eXrW9luPpvh",
        "outputId": "0f029c46-9296-420a-8ba6-a20c98932040"
      },
      "outputs": [
        {
          "name": "stdout",
          "output_type": "stream",
          "text": [
            "              precision    recall  f1-score   support\n",
            "\n",
            "  Downstairs       0.54      0.31      0.40       909\n",
            "     Jogging       0.90      0.89      0.89      2587\n",
            "     Sitting       0.85      0.80      0.83       501\n",
            "    Standing       0.68      0.73      0.71       444\n",
            "    Upstairs       0.46      0.57      0.51       971\n",
            "     Walking       0.83      0.87      0.85      3391\n",
            "\n",
            "    accuracy                           0.77      8803\n",
            "   macro avg       0.71      0.70      0.70      8803\n",
            "weighted avg       0.77      0.77      0.77      8803\n",
            "\n"
          ]
        }
      ],
      "source": [
        "from sklearn.metrics import classification_report, confusion_matrix\n",
        "print(classification_report(Y_tests, y_predicts))"
      ]
    },
    {
      "cell_type": "markdown",
      "metadata": {},
      "source": [
        "### Vẽ đồ thị ma trận confusion:\n",
        "\n",
        "Đồ thị cho thấy:\n",
        "+ Model bị nhầm lẫn nhiều giữa hành động đi lên lầu xuống lầu với đi bộ\n",
        "+ Trong khi đó model dự đoán tốt cho hành động walking và jogging"
      ]
    },
    {
      "cell_type": "code",
      "execution_count": 17,
      "metadata": {
        "colab": {
          "base_uri": "https://localhost:8080/",
          "height": 594
        },
        "id": "cFX-oJ7CfL2P",
        "outputId": "71df659f-c7c4-4003-9230-968ec6a9fd4c"
      },
      "outputs": [
        {
          "data": {
            "text/plain": [
              "<function matplotlib.pyplot.show(close=None, block=None)>"
            ]
          },
          "execution_count": 17,
          "metadata": {},
          "output_type": "execute_result"
        },
        {
          "data": {
            "image/png": "[encoded data removed]",
            "text/plain": [
              "<Figure size 640x640 with 2 Axes>"
            ]
          },
          "metadata": {},
          "output_type": "display_data"
        }
      ],
      "source": [
        "\n",
        "conf_matrix = confusion_matrix(Y_tests, y_predicts)\n",
        "plt.figure(figsize=(8,8), dpi=80)\n",
        "ax = sns.heatmap(conf_matrix, annot=True, cmap='jet_r')\n",
        "ax.set_title('BiLSTM\\'s Classification Confusion Matrix').set_color('violet')\n",
        "ax.set_xlabel('\\nPredicted Value').set_color('violet')\n",
        "ax.set_ylabel('Actual Values ').set_color('violet')\n",
        "\n",
        "ax.set_xticklabels(['Downstairs','Jogging','Sitting','Standing','Upstairs','Walking'])\n",
        "ax.set_yticklabels(['Downstairs','Jogging','Sitting','Standing','Upstairs','Walking'])\n",
        "\n",
        "plt.tick_params(axis='x', colors='violet')\n",
        "plt.tick_params(axis='y', colors='violet')\n",
        "plt.show"
      ]
    },
    {
      "cell_type": "markdown",
      "metadata": {},
      "source": [
        "### **Kết luận**: Model thể hiện tốt cho hành động jogging và walking với sai sót ít trong khi đó model bị nhầm lẫn nhiều ở hạnh động downstairs và upstairs.\n",
        "\n",
        "Lý giải chung: \n",
        "+ Có thể vì điểm dữ liệu cho 2 hành động trên thấp hoặc là dữ liệu có nhiều điểm giống nhau nên model thể hiện kém. \n",
        "+ Trong khi đó mặc dù có ít dữ liệu, hành động dứng và ngồi khác nhau hẳng\n",
        "+ Và hành động đi bộ cũng như chạy bộ có nhiều điểm giống nhau nhưng do có nhiều điểm dữ liệu nên model có thể nhận diện được các điểm khác nhau rõ rệt"
      ]
    }
  ],
  "metadata": {
    "colab": {
      "collapsed_sections": [],
      "name": "code.ipynb",
      "provenance": []
    },
    "interpreter": {
      "hash": "1148e79ae4f8392dbcaa75bcace7c5b36e4de35dd9940e61e56f7ccbb3b79b43"
    },
    "kernelspec": {
      "display_name": "Python 3.6.13 ('directML_test')",
      "language": "python",
      "name": "python3"
    },
    "language_info": {
      "codemirror_mode": {
        "name": "ipython",
        "version": 3
      },
      "file_extension": ".py",
      "mimetype": "text/x-python",
      "name": "python",
      "nbconvert_exporter": "python",
      "pygments_lexer": "ipython3",
      "version": "3.6.13"
    },
    "orig_nbformat": 4
  },
  "nbformat": 4,
  "nbformat_minor": 0
}
